{
 "cells": [
  {
   "cell_type": "markdown",
   "metadata": {},
   "source": [
    "# Call MATLAB and Python Code in Production"
   ]
  },
  {
   "cell_type": "markdown",
   "metadata": {},
   "source": [
    "Use MATLAB Production Server to call Python and MATLAB code. The Python module to read the data is called from MATLAB and packaged with the MATLAB code."
   ]
  },
  {
   "cell_type": "code",
   "execution_count": 9,
   "metadata": {},
   "outputs": [
    {
     "name": "stdout",
     "output_type": "stream",
     "text": [
      "{'lhs': [{'mwdata': ['Moderate'], 'mwsize': [1, 8], 'mwtype': 'char'}, {'mwdata': [97.57], 'mwsize': [1, 1], 'mwtype': 'double'}]}\n"
     ]
    }
   ],
   "source": [
    "from urllib import request\n",
    "import json\n",
    "\n",
    "# Server address \n",
    "url = \"http://localhost:9910/AirQualReport/CurrentAirQual\"\n",
    "\n",
    "# Prep json inputs to call MATLAB code \n",
    "headers = {\"Content-Type\": \"application/json\"}\n",
    "body = json.dumps({\"nargout\": 2, \"rhs\" : \"San Jose\"})\n",
    "# Convert to string and encode\n",
    "body = str(body)\n",
    "body= body.encode(\"utf-8\")\n",
    "\n",
    "# Post method\n",
    "req = request.Request(url, data=body, headers=headers)\n",
    "# Response\n",
    "resp = request.urlopen(req)\n",
    "result = json.loads(resp.read())\n",
    "print(result)"
   ]
  },
  {
   "cell_type": "code",
   "execution_count": 6,
   "metadata": {},
   "outputs": [
    {
     "name": "stdout",
     "output_type": "stream",
     "text": [
      "Air quality is Unhealthy\n",
      "Current temperature is 83.84\n"
     ]
    }
   ],
   "source": [
    "# Display results\n",
    "if \"lhs\" in result:\n",
    "    print(\"Air quality is \" + str(result[\"lhs\"][0][\"mwdata\"][0]))\n",
    "    print(\"Current temperature is \" + str(result[\"lhs\"][1][\"mwdata\"][0]))    \n",
    "elif \"error\" in result:\n",
    "     print(\"Error: \" + str(result[\"error\"][\"message\"]))"
   ]
  }
 ],
 "metadata": {
  "kernelspec": {
   "display_name": "Python 3",
   "language": "python",
   "name": "python3"
  },
  "language_info": {
   "codemirror_mode": {
    "name": "ipython",
    "version": 3
   },
   "file_extension": ".py",
   "mimetype": "text/x-python",
   "name": "python",
   "nbconvert_exporter": "python",
   "pygments_lexer": "ipython3",
   "version": "3.6.7"
  }
 },
 "nbformat": 4,
 "nbformat_minor": 2
}
